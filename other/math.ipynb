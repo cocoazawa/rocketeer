{
 "cells": [
  {
   "cell_type": "markdown",
   "metadata": {},
   "source": [
    "# Mathematics Architecture for RocketeerCore\n",
    "\n",
    "Made by Peter Go\n",
    "Last Update Pushed to Repo: Oct. 23rd\n",
    "\n",
    "This notebook explains and simulates, along with the explanations, the underlying mathematics behind the Rocketeer simulation software. This notebook usually explains the significance of the topic being coded into the code block below, then uses the equation to run and graph an updated version of the simulation. This can be done as many times as wanted, adding and adding to the existing simulation while keeping the parts separate and making things look, and making things easier to actually implement. Not to mention the easiness of updating the simulation to another version in in CI/CD workflow.\n",
    "\n",
    "The basic and fundamental parts of an aerodynamics simulation that the notebook will look at include, but are not limited to:\n",
    "\n",
    "- Model Entry\n",
    "- Drag\n",
    "- Lift (Fin Induced, Not really needed)\n",
    "- Thrust\n",
    "\n",
    "## Rocket Types Used and Implemented Successfully\n",
    "\n",
    "- <input type=\"checkbox\" checked /> Mini\n",
    "- <input type=\"checkbox\" /> Standard\n",
    "\n",
    "\n",
    "## Mathematics Physics Elements Implemented Successfully\n",
    "\n",
    "- <input type=\"checkbox\" checked /> Entry Derived Calculations\n",
    "- <input type=\"checkbox\" checked /> Basic Thrust\n",
    "  - <input type=\"checkbox\"  /> Thrust Curve Equations\n",
    "  - <input type=\"checkbox\"  /> Noise of Thrust Curve\n",
    "- <input type=\"checkbox\" checked /> Gravity\n",
    "- <input type=\"checkbox\" checked /> Drag Equation\n",
    "- <input type=\"checkbox\" /> Lift Equation (sparse, not targeted)"
   ]
  },
  {
   "cell_type": "markdown",
   "metadata": {},
   "source": [
    "## Simple ~~Dynamic~~ Array Thrust\n",
    "\n",
    "> Dynamic thrust is not going to be defined in the current version of the simulation. \n",
    "> Instead, we are going to be using arrays to define thrust and be as precise as possible using available data.\n",
    "\n",
    "Thrust is defined using npArrays and the simulation uses the thrust given for the current time period to calculate the thrust applied onto the Rocket's pointing axis."
   ]
  },
  {
   "cell_type": "code",
   "execution_count": null,
   "metadata": {},
   "outputs": [],
   "source": [
    "import numpy as np\n",
    "import matplotlib\n",
    "\n",
    "gravityGlobalSL = 9.807\n",
    "\n",
    "# Thrust Data contributed by John Coker from thrustcurve.org \n",
    "def thrustArrayThrowback(motor):\n",
    "    if motor == \"C5\" or motor == \"c5\":\n",
    "        return np.array([[0.00, 0.00][0.0050, 1.422], [0.031, 2.695], [0.063, 5.503], [0.117, 10.444], [0.151, 14.374], [0.168, 16.358], [0.174, 16.471], [0.179, 17.594], [0.199, 18.604], [0.211, 19.877], [0.217, 20.401], [0.23, 20.289], [0.234, 18.679], [0.239, 18.23], [0.252, 13.813], [0.258, 9.021], [0.265, 6.588], [0.28, 4.904], [0.296, 4.08], [0.349, 3.481], [0.438, 2.995], [0.504, 2.733], [0.611, 2.807], [0.815, 2.695], [0.97, 2.695], [1.335, 2.695], [1.598, 2.658], [1.794, 2.695], [1.96, 2.733], [1.987, 1.16], [1.992, 0.0]])"
   ]
  },
  {
   "cell_type": "markdown",
   "metadata": {},
   "source": [
    "## Defining the Rocket\n",
    "\n",
    "This rocket model is a common **Conic** nose cone shape and a **Cylindrical** body. Since it is a mini rocket, it does not have fins to stabilize and performs the most basic and minimized requirements for the rocket simulation, and does not push the calculations to any limit, and proves the bare minimum."
   ]
  },
  {
   "cell_type": "code",
   "execution_count": null,
   "metadata": {},
   "outputs": [],
   "source": [
    "# Class definition of a rocket. This will be expanded in the future to include parameters that are more \"defining\" of a rocket and be changed to a 3D version of a rocket.\n",
    "class Rocket:\n",
    "    def __init__(self, calculated, rocketType, motor, thrustArray, diameter, noseconeLength, bodyLength, weight, frontalArea, cD, invincible ):\n",
    "        self.rocketType = rocketType\n",
    "        self.calculated = calculated\n",
    "        self.motor = motor\n",
    "        self.thrustArray = thrustArray\n",
    "        self.diameter = diameter\n",
    "        self.noseconeLength = noseconeLength\n",
    "        self.bodyLength = bodyLength\n",
    "        self.weight = weight\n",
    "        self.frontalArea = frontalArea\n",
    "        self.cD = cD\n",
    "        self.invincible = invincible\n",
    "    \n",
    "    # This method (required to be called, or the simulation doesn't run) calculates the parts of the Rocket that are not given to the simulation. Of course, it won't calculate simple things or impossible things, like cD\n",
    "    def calculateNonBased(self):\n",
    "        if self.rocketType == \"Mini\":\n",
    "            self.cD = 0.2\n",
    "            self.frontalArea = 2 * (np.pi) * (self.diameter/2) \n",
    "            self.weight = self.weight / 1000 * gravityGlobalSL\n",
    "\n",
    "        self.thrustArray = np.array([[0.00, 0.00][0.0050, 1.422], [0.031, 2.695], [0.063, 5.503], [0.117, 10.444], [0.151, 14.374], [0.168, 16.358], [0.174, 16.471], [0.179, 17.594], [0.199, 18.604], [0.211, 19.877], [0.217, 20.401], [0.23, 20.289], [0.234, 18.679], [0.239, 18.23], [0.252, 13.813], [0.258, 9.021], [0.265, 6.588], [0.28, 4.904], [0.296, 4.08], [0.349, 3.481], [0.438, 2.995], [0.504, 2.733], [0.611, 2.807], [0.815, 2.695], [0.97, 2.695], [1.335, 2.695], [1.598, 2.658], [1.794, 2.695], [1.96, 2.733], [1.987, 1.16], [1.992, 0.0]])"
   ]
  },
  {
   "cell_type": "code",
   "execution_count": null,
   "metadata": {},
   "outputs": [],
   "source": [
    "# Making a Rocket\n",
    "localRocket = Rocket(False, \"Mini\", \"C5\", np.array([]), 5, 10, 20, 50, 0, 0, False)\n",
    "Rocket.calculateNonBased(localRocket)"
   ]
  },
  {
   "cell_type": "markdown",
   "metadata": {},
   "source": [
    "## Simulating!!!"
   ]
  },
  {
   "cell_type": "code",
   "execution_count": null,
   "metadata": {},
   "outputs": [],
   "source": [
    "simulationRuntimeFlag = True\n",
    "print(f\"✓ Passed Flag 1!\")\n",
    "print(f\"{localRocket.thrustArray[(1,1)]}\")\n",
    "timeStep = 0\n",
    "\n",
    "\n",
    "while simulationRuntimeFlag == True:\n",
    "    # Acceleration of localRocket\n",
    "    dragForce = \n",
    "\n",
    "    # Ending...\n",
    "    timeStep += 0.01\n",
    "    simulationRuntimeFlag = False"
   ]
  }
 ],
 "metadata": {
  "kernelspec": {
   "display_name": "Python 3",
   "language": "python",
   "name": "python3"
  },
  "language_info": {
   "codemirror_mode": {
    "name": "ipython",
    "version": 3
   },
   "file_extension": ".py",
   "mimetype": "text/x-python",
   "name": "python",
   "nbconvert_exporter": "python",
   "pygments_lexer": "ipython3",
   "version": "3.11.5"
  },
  "orig_nbformat": 4
 },
 "nbformat": 4,
 "nbformat_minor": 2
}
