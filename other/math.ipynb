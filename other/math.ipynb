{
 "cells": [
  {
   "cell_type": "markdown",
   "metadata": {},
   "source": [
    "# Mathematics Architecture for RocketeerCore\n",
    "\n",
    "Made by Peter Go\n",
    "Last Update Pushed to Repo: Oct. 23rd\n",
    "\n",
    "This notebook explains and simulates, along with the explanations, the underlying mathematics behind the Rocketeer simulation software. This notebook usually explains the significance of the topic being coded into the code block below, then uses the equation to run and graph an updated version of the simulation. This can be done as many times as wanted, adding and adding to the existing simulation while keeping the parts separate and making things look, and making things easier to actually implement. Not to mention the easiness of updating the simulation to another version in in CI/CD workflow.\n",
    "\n",
    "The basic and fundamental parts of an aerodynamics simulation that the notebook will look at include, but are not limited to:\n",
    "\n",
    "- Model Entry\n",
    "- Drag\n",
    "- Lift (Fin Induced, Not really needed)\n",
    "- Thrust\n",
    "\n",
    "## Rocket Types Used and Implemented Successfully\n",
    "\n",
    "- <input type=\"checkbox\" checked /> Mini\n",
    "- <input type=\"checkbox\" /> Standard\n",
    "\n",
    "\n",
    "## Mathematics Physics Elements Implemented Successfully\n",
    "\n",
    "- <input type=\"checkbox\" checked /> Entry Derived Calculations\n",
    "- <input type=\"checkbox\" checked /> Basic Thrust\n",
    "  - <input type=\"checkbox\"  /> Thrust Curve Equations\n",
    "  - <input type=\"checkbox\"  /> Noise of Thrust Curve\n",
    "- <input type=\"checkbox\" checked /> Gravity\n",
    "- <input type=\"checkbox\" checked /> Drag Equation\n",
    "- <input type=\"checkbox\" /> Lift Equation (sparse, not targeted)"
   ]
  },
  {
   "cell_type": "markdown",
   "metadata": {},
   "source": [
    "## Simple ~~Dynamic~~ Array Thrust\n",
    "\n",
    "> Dynamic thrust is not going to be defined in the current version of the simulation. \n",
    "> Instead, we are going to be using arrays to define thrust and be as precise as possible using available data.\n",
    "\n",
    "Thrust is defined using npArrays and the simulation uses the thrust given for the current time period to calculate the thrust applied onto the Rocket's pointing axis."
   ]
  },
  {
   "cell_type": "code",
   "execution_count": 24,
   "metadata": {},
   "outputs": [
    {
     "name": "stderr",
     "output_type": "stream",
     "text": [
      "<>:9: SyntaxWarning: list indices must be integers or slices, not tuple; perhaps you missed a comma?\n",
      "<>:9: SyntaxWarning: list indices must be integers or slices, not tuple; perhaps you missed a comma?\n",
      "/var/folders/k6/rprfxmhd0v55y8fdl1vp6vsw0000gn/T/ipykernel_6711/1406463346.py:9: SyntaxWarning: list indices must be integers or slices, not tuple; perhaps you missed a comma?\n",
      "  return np.array([[0.00, 0.00][0.0050, 1.422], [0.031, 2.695], [0.063, 5.503], [0.117, 10.444], [0.151, 14.374], [0.168, 16.358], [0.174, 16.471], [0.179, 17.594], [0.199, 18.604], [0.211, 19.877], [0.217, 20.401], [0.23, 20.289], [0.234, 18.679], [0.239, 18.23], [0.252, 13.813], [0.258, 9.021], [0.265, 6.588], [0.28, 4.904], [0.296, 4.08], [0.349, 3.481], [0.438, 2.995], [0.504, 2.733], [0.611, 2.807], [0.815, 2.695], [0.97, 2.695], [1.335, 2.695], [1.598, 2.658], [1.794, 2.695], [1.96, 2.733], [1.987, 1.16], [1.992, 0.0]])\n"
     ]
    }
   ],
   "source": [
    "import numpy as np\n",
    "import matplotlib\n",
    "\n",
    "gravityGlobalSL = 9.807\n",
    "\n",
    "# Thrust Data contributed by John Coker from thrustcurve.org \n",
    "def thrustArrayThrowback(motor):\n",
    "    if motor == \"C5\" or motor == \"c5\":\n",
    "        return np.array([[0.00, 0.00][0.0050, 1.422], [0.031, 2.695], [0.063, 5.503], [0.117, 10.444], [0.151, 14.374], [0.168, 16.358], [0.174, 16.471], [0.179, 17.594], [0.199, 18.604], [0.211, 19.877], [0.217, 20.401], [0.23, 20.289], [0.234, 18.679], [0.239, 18.23], [0.252, 13.813], [0.258, 9.021], [0.265, 6.588], [0.28, 4.904], [0.296, 4.08], [0.349, 3.481], [0.438, 2.995], [0.504, 2.733], [0.611, 2.807], [0.815, 2.695], [0.97, 2.695], [1.335, 2.695], [1.598, 2.658], [1.794, 2.695], [1.96, 2.733], [1.987, 1.16], [1.992, 0.0]])"
   ]
  },
  {
   "cell_type": "markdown",
   "metadata": {},
   "source": [
    "## Defining the Rocket\n",
    "\n",
    "This rocket model is a common **Conic** nose cone shape and a **Cylindrical** body. Since it is a mini rocket, it does not have fins to stabilize and performs the most basic and minimized requirements for the rocket simulation, and does not push the calculations to any limit, and proves the bare minimum."
   ]
  },
  {
   "cell_type": "code",
   "execution_count": 25,
   "metadata": {},
   "outputs": [
    {
     "name": "stderr",
     "output_type": "stream",
     "text": [
      "<>:23: SyntaxWarning: list indices must be integers or slices, not tuple; perhaps you missed a comma?\n",
      "<>:23: SyntaxWarning: list indices must be integers or slices, not tuple; perhaps you missed a comma?\n",
      "/var/folders/k6/rprfxmhd0v55y8fdl1vp6vsw0000gn/T/ipykernel_6711/3523538035.py:23: SyntaxWarning: list indices must be integers or slices, not tuple; perhaps you missed a comma?\n",
      "  self.thrustArray = np.array([[0.00, 0.00][0.0050, 1.422], [0.031, 2.695], [0.063, 5.503], [0.117, 10.444], [0.151, 14.374], [0.168, 16.358], [0.174, 16.471], [0.179, 17.594], [0.199, 18.604], [0.211, 19.877], [0.217, 20.401], [0.23, 20.289], [0.234, 18.679], [0.239, 18.23], [0.252, 13.813], [0.258, 9.021], [0.265, 6.588], [0.28, 4.904], [0.296, 4.08], [0.349, 3.481], [0.438, 2.995], [0.504, 2.733], [0.611, 2.807], [0.815, 2.695], [0.97, 2.695], [1.335, 2.695], [1.598, 2.658], [1.794, 2.695], [1.96, 2.733], [1.987, 1.16], [1.992, 0.0]])\n"
     ]
    }
   ],
   "source": [
    "# Class definition of a rocket. This will be expanded in the future to include parameters that are more \"defining\" of a rocket and be changed to a 3D version of a rocket.\n",
    "class Rocket:\n",
    "    def __init__(self, calculated, rocketType, motor, thrustArray, diameter, noseconeLength, bodyLength, weight, frontalArea, cD, invincible ):\n",
    "        self.rocketType = rocketType\n",
    "        self.calculated = calculated\n",
    "        self.motor = motor\n",
    "        self.thrustArray = thrustArray\n",
    "        self.diameter = diameter\n",
    "        self.noseconeLength = noseconeLength\n",
    "        self.bodyLength = bodyLength\n",
    "        self.weight = weight\n",
    "        self.frontalArea = frontalArea\n",
    "        self.cD = cD\n",
    "        self.invincible = invincible\n",
    "    \n",
    "    # This method (required to be called, or the simulation doesn't run) calculates the parts of the Rocket that are not given to the simulation. Of course, it won't calculate simple things or impossible things, like cD\n",
    "    def calculateNonBased(self):\n",
    "        if self.rocketType == \"Mini\":\n",
    "            self.cD = 0.2\n",
    "            self.frontalArea = 2 * (np.pi) * (self.diameter/2) \n",
    "            self.weight = self.weight / 1000 * gravityGlobalSL\n",
    "\n",
    "        self.thrustArray = np.array([[0.00, 0.00][0.0050, 1.422], [0.031, 2.695], [0.063, 5.503], [0.117, 10.444], [0.151, 14.374], [0.168, 16.358], [0.174, 16.471], [0.179, 17.594], [0.199, 18.604], [0.211, 19.877], [0.217, 20.401], [0.23, 20.289], [0.234, 18.679], [0.239, 18.23], [0.252, 13.813], [0.258, 9.021], [0.265, 6.588], [0.28, 4.904], [0.296, 4.08], [0.349, 3.481], [0.438, 2.995], [0.504, 2.733], [0.611, 2.807], [0.815, 2.695], [0.97, 2.695], [1.335, 2.695], [1.598, 2.658], [1.794, 2.695], [1.96, 2.733], [1.987, 1.16], [1.992, 0.0]])"
   ]
  },
  {
   "cell_type": "code",
   "execution_count": 29,
   "metadata": {},
   "outputs": [
    {
     "ename": "TypeError",
     "evalue": "list indices must be integers or slices, not tuple",
     "output_type": "error",
     "traceback": [
      "\u001b[0;31m---------------------------------------------------------------------------\u001b[0m",
      "\u001b[0;31mTypeError\u001b[0m                                 Traceback (most recent call last)",
      "\u001b[1;32m/Users/pwg7/DatabaseB/home/engineeringFiles/rocketeer/other/math.ipynb Cell 6\u001b[0m line \u001b[0;36m3\n\u001b[1;32m      <a href='vscode-notebook-cell:/Users/pwg7/DatabaseB/home/engineeringFiles/rocketeer/other/math.ipynb#W6sZmlsZQ%3D%3D?line=0'>1</a>\u001b[0m \u001b[39m# Making a Rocket\u001b[39;00m\n\u001b[1;32m      <a href='vscode-notebook-cell:/Users/pwg7/DatabaseB/home/engineeringFiles/rocketeer/other/math.ipynb#W6sZmlsZQ%3D%3D?line=1'>2</a>\u001b[0m localRocket \u001b[39m=\u001b[39m Rocket(\u001b[39mFalse\u001b[39;00m, \u001b[39m\"\u001b[39m\u001b[39mMini\u001b[39m\u001b[39m\"\u001b[39m, \u001b[39m\"\u001b[39m\u001b[39mC5\u001b[39m\u001b[39m\"\u001b[39m, [], \u001b[39m5\u001b[39m, \u001b[39m10\u001b[39m, \u001b[39m20\u001b[39m, \u001b[39m50\u001b[39m, \u001b[39m0\u001b[39m, \u001b[39m0\u001b[39m, \u001b[39mFalse\u001b[39;00m)\n\u001b[0;32m----> <a href='vscode-notebook-cell:/Users/pwg7/DatabaseB/home/engineeringFiles/rocketeer/other/math.ipynb#W6sZmlsZQ%3D%3D?line=2'>3</a>\u001b[0m Rocket\u001b[39m.\u001b[39;49mcalculateNonBased(localRocket)\n",
      "\u001b[1;32m/Users/pwg7/DatabaseB/home/engineeringFiles/rocketeer/other/math.ipynb Cell 6\u001b[0m line \u001b[0;36m2\n\u001b[1;32m     <a href='vscode-notebook-cell:/Users/pwg7/DatabaseB/home/engineeringFiles/rocketeer/other/math.ipynb#W6sZmlsZQ%3D%3D?line=19'>20</a>\u001b[0m     \u001b[39mself\u001b[39m\u001b[39m.\u001b[39mfrontalArea \u001b[39m=\u001b[39m \u001b[39m2\u001b[39m \u001b[39m*\u001b[39m (np\u001b[39m.\u001b[39mpi) \u001b[39m*\u001b[39m (\u001b[39mself\u001b[39m\u001b[39m.\u001b[39mdiameter\u001b[39m/\u001b[39m\u001b[39m2\u001b[39m) \n\u001b[1;32m     <a href='vscode-notebook-cell:/Users/pwg7/DatabaseB/home/engineeringFiles/rocketeer/other/math.ipynb#W6sZmlsZQ%3D%3D?line=20'>21</a>\u001b[0m     \u001b[39mself\u001b[39m\u001b[39m.\u001b[39mweight \u001b[39m=\u001b[39m \u001b[39mself\u001b[39m\u001b[39m.\u001b[39mweight \u001b[39m/\u001b[39m \u001b[39m1000\u001b[39m \u001b[39m*\u001b[39m gravityGlobalSL\n\u001b[0;32m---> <a href='vscode-notebook-cell:/Users/pwg7/DatabaseB/home/engineeringFiles/rocketeer/other/math.ipynb#W6sZmlsZQ%3D%3D?line=22'>23</a>\u001b[0m \u001b[39mself\u001b[39m\u001b[39m.\u001b[39mthrustArray \u001b[39m=\u001b[39m np\u001b[39m.\u001b[39marray([[\u001b[39m0.00\u001b[39;49m, \u001b[39m0.00\u001b[39;49m][\u001b[39m0.0050\u001b[39;49m, \u001b[39m1.422\u001b[39;49m], [\u001b[39m0.031\u001b[39m, \u001b[39m2.695\u001b[39m], [\u001b[39m0.063\u001b[39m, \u001b[39m5.503\u001b[39m], [\u001b[39m0.117\u001b[39m, \u001b[39m10.444\u001b[39m], [\u001b[39m0.151\u001b[39m, \u001b[39m14.374\u001b[39m], [\u001b[39m0.168\u001b[39m, \u001b[39m16.358\u001b[39m], [\u001b[39m0.174\u001b[39m, \u001b[39m16.471\u001b[39m], [\u001b[39m0.179\u001b[39m, \u001b[39m17.594\u001b[39m], [\u001b[39m0.199\u001b[39m, \u001b[39m18.604\u001b[39m], [\u001b[39m0.211\u001b[39m, \u001b[39m19.877\u001b[39m], [\u001b[39m0.217\u001b[39m, \u001b[39m20.401\u001b[39m], [\u001b[39m0.23\u001b[39m, \u001b[39m20.289\u001b[39m], [\u001b[39m0.234\u001b[39m, \u001b[39m18.679\u001b[39m], [\u001b[39m0.239\u001b[39m, \u001b[39m18.23\u001b[39m], [\u001b[39m0.252\u001b[39m, \u001b[39m13.813\u001b[39m], [\u001b[39m0.258\u001b[39m, \u001b[39m9.021\u001b[39m], [\u001b[39m0.265\u001b[39m, \u001b[39m6.588\u001b[39m], [\u001b[39m0.28\u001b[39m, \u001b[39m4.904\u001b[39m], [\u001b[39m0.296\u001b[39m, \u001b[39m4.08\u001b[39m], [\u001b[39m0.349\u001b[39m, \u001b[39m3.481\u001b[39m], [\u001b[39m0.438\u001b[39m, \u001b[39m2.995\u001b[39m], [\u001b[39m0.504\u001b[39m, \u001b[39m2.733\u001b[39m], [\u001b[39m0.611\u001b[39m, \u001b[39m2.807\u001b[39m], [\u001b[39m0.815\u001b[39m, \u001b[39m2.695\u001b[39m], [\u001b[39m0.97\u001b[39m, \u001b[39m2.695\u001b[39m], [\u001b[39m1.335\u001b[39m, \u001b[39m2.695\u001b[39m], [\u001b[39m1.598\u001b[39m, \u001b[39m2.658\u001b[39m], [\u001b[39m1.794\u001b[39m, \u001b[39m2.695\u001b[39m], [\u001b[39m1.96\u001b[39m, \u001b[39m2.733\u001b[39m], [\u001b[39m1.987\u001b[39m, \u001b[39m1.16\u001b[39m], [\u001b[39m1.992\u001b[39m, \u001b[39m0.0\u001b[39m]])\n",
      "\u001b[0;31mTypeError\u001b[0m: list indices must be integers or slices, not tuple"
     ]
    }
   ],
   "source": [
    "# Making a Rocket\n",
    "localRocket = Rocket(False, \"Mini\", \"C5\", np.array([]), 5, 10, 20, 50, 0, 0, False)\n",
    "Rocket.calculateNonBased(localRocket)"
   ]
  },
  {
   "cell_type": "markdown",
   "metadata": {},
   "source": [
    "## Simulating!!!"
   ]
  },
  {
   "cell_type": "code",
   "execution_count": null,
   "metadata": {},
   "outputs": [],
   "source": [
    "simulationRuntimeFlag = True\n",
    "print(f\"✓ Passed Flag 1!\")\n",
    "print(f\"{localRocket.thrustArray[(1,1)]}\")\n",
    "timeStep = 0\n",
    "\n",
    "\n",
    "while simulationRuntimeFlag == True:\n",
    "    # Acceleration of localRocket\n",
    "    dragForce = \n",
    "\n",
    "    # Ending...\n",
    "    timeStep += 0.01\n",
    "    simulationRuntimeFlag = False"
   ]
  }
 ],
 "metadata": {
  "kernelspec": {
   "display_name": "Python 3",
   "language": "python",
   "name": "python3"
  },
  "language_info": {
   "codemirror_mode": {
    "name": "ipython",
    "version": 3
   },
   "file_extension": ".py",
   "mimetype": "text/x-python",
   "name": "python",
   "nbconvert_exporter": "python",
   "pygments_lexer": "ipython3",
   "version": "3.11.5"
  },
  "orig_nbformat": 4
 },
 "nbformat": 4,
 "nbformat_minor": 2
}
